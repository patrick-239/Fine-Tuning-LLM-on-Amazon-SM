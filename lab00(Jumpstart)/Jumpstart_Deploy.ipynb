{
 "cells": [
  {
   "cell_type": "markdown",
   "source": [
    "### Deploying models with Amazon SageMaker Jumpstart"
   ],
   "metadata": {
    "collapsed": false
   },
   "id": "b00a8c46c7b0fddd"
  },
  {
   "cell_type": "markdown",
   "source": [
    "To optimize your time we will deploy models for labs 3-5 right now. \n",
    "We will deploy 2 models:\n",
    "1. Meta Llama2 7b Chat compiled for Amazon Inferentia2 \n",
    "2. GPT-J 6b Embedding model with FP16\n",
    "\n",
    "You could do that by following next steps: \n",
    "\n",
    "1. Open Jumpstart in Amazon SageMaker Studio (left side menu)\n",
    "\n",
    "![Jumpstart](./images/1.png)\n",
    "2. Type \"Llama-2-7b\" in a Search text box and then select \"Llama-2-7b-chat Neuron\"\n",
    "![Llama2](./images/2.png)\n",
    "3. On a model card page select \"Deploy\" \n",
    "![Deploy](./images/3.png)\n",
    "4. Read and Accept EULA for Llama2 model\n",
    "![EULA](./images/4.png)\n",
    "5. Provide an endpoint name (you could keep default), Select \"ml.inf2.8xlarge\" as \"Instance type\" and click \"Deploy\"\n",
    "![Config](./images/5.png)\n",
    "6. Open Jumpstart in Amazon SageMaker Studio again (left side menu)\n",
    "\n",
    "![Jumpstart](./images/1.png)\n",
    "7. Type \"embedding\" in a Search text box and then select \"GPT-J 6B Embedding FP16\"\n",
    "![GPT-J](./images/6.png)\n",
    "8. On a model card page select \"Deploy\" \n",
    "![Deploy](./images/7.png)\n",
    "9. Provide an endpoint name (you could keep default), Select \"ml.g5.2xlarge\" as \"Instance type\" and click \"Deploy\"\n",
    "![Config](./images/8.png)\n",
    "\n",
    "It will take some time (10-15) muntes to deploy models, but don't need to wait for it. Continue to Lab01"
   ],
   "metadata": {
    "collapsed": false
   },
   "id": "e1c3c558871c686b"
  },
  {
   "cell_type": "code",
   "execution_count": null,
   "outputs": [],
   "source": [],
   "metadata": {
    "collapsed": false
   },
   "id": "53e988eedac5bf5"
  }
 ],
 "metadata": {
  "kernelspec": {
   "display_name": "Python 3",
   "language": "python",
   "name": "python3"
  },
  "language_info": {
   "codemirror_mode": {
    "name": "ipython",
    "version": 2
   },
   "file_extension": ".py",
   "mimetype": "text/x-python",
   "name": "python",
   "nbconvert_exporter": "python",
   "pygments_lexer": "ipython2",
   "version": "2.7.6"
  }
 },
 "nbformat": 4,
 "nbformat_minor": 5
}
